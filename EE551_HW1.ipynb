{
 "cells": [
  {
   "cell_type": "code",
   "execution_count": 24,
   "metadata": {},
   "outputs": [
    {
     "data": {
      "text/plain": [
       "('EE551',\n",
       " 'Stevens',\n",
       " 'StevensStevensStevensStevensStevens',\n",
       " 35,\n",
       " 'Stevens is good',\n",
       " 'Stevens is awesome')"
      ]
     },
     "execution_count": 24,
     "metadata": {},
     "output_type": "execute_result"
    }
   ],
   "source": [
    "import math\n",
    "def numbers_and_strings():\n",
    "    \"\"\"\n",
    "     This is to review numbers and strings and basic operations.\n",
    "     \"\"\"\n",
    "# Assign a string \"EE551\" to a variable x\n",
    "    x = \"EE551\"\n",
    "\n",
    "# Assign a string \"Stevens\" to a variable y\n",
    "    y = \"Stevens\"\n",
    "\n",
    "# Repeat variable y 5 times\n",
    "    z = y*5\n",
    "\n",
    "# What is the length of z?\n",
    "    length = len(z)\n",
    "\n",
    "# Concatenate variable y with string \" is good\"\n",
    "    m = y + \" is good\"\n",
    "    \n",
    "# Replace \"good\" with \"awesome\" in variable m and assign it to a new variable n\n",
    "    n = m.replace('good', 'awesome')\n",
    "    \n",
    "    return x, y, z, length, m, n\n",
    "\n",
    "numbers_and_strings()"
   ]
  },
  {
   "cell_type": "code",
   "execution_count": 29,
   "metadata": {},
   "outputs": [
    {
     "data": {
      "text/plain": [
       "(['Stevens', 'is', 'awesome'],\n",
       " 'wesome',\n",
       " [5, 11, 38],\n",
       " [10, 38],\n",
       " [83, 116, 101, 118, 101, 110, 115])"
      ]
     },
     "execution_count": 29,
     "metadata": {},
     "output_type": "execute_result"
    }
   ],
   "source": [
    "def lists():\n",
    "    \"\"\"\n",
    "    This is to review basic operations with lists.\n",
    "    \"\"\"\n",
    "    n = \"Stevens is awesome\"\n",
    "\n",
    "# Split variable n on a delimiter space into a list of substrings\n",
    "    p = n.split(\" \")\n",
    "\n",
    "# Get all the items past the first of the third substring (first on at 3rd place)\n",
    "    o = p[2]\n",
    "    r= o.replace(\"a\", \"\")\n",
    "    \n",
    "\n",
    "# Create a 3 x 3 matrix as nested list such that\n",
    "#   first row is [1, 4, 5]\n",
    "#   second row is [6, 10, 11]\n",
    "#   third row is [12, 17, 38]\n",
    "    A = [\n",
    "        [1,4,5],\n",
    "        [6,10,11],\n",
    "        [12,17,38]\n",
    "    ]\n",
    "\n",
    "# Collect the items in the last column of matrix A using list comprehension\n",
    "    q = []\n",
    "    c = []\n",
    "    for i in range (2, 3):\n",
    "        for j in range (0, 3):\n",
    "            c.append (A[j][i])\n",
    "\n",
    "# Collect only the even items of the diagonal of matrix A using list comprehension\n",
    "    d = []\n",
    "    for i in range (0, len(A)):\n",
    "        if (A[i][i] % 2 == 0):\n",
    "            d.append(A[i][i])\n",
    "\n",
    "# We can convert a single character to its underlying integer code (e.g., its ASCII byte value)\n",
    "# by passing it to the built-in ord function. Generate a list of these integers to represent\n",
    "# each character of the string \"Stevens\" using list comprehension.\n",
    "    o = []\n",
    "    z = \"Stevens\"\n",
    "    s = list(z)\n",
    "    for i in range (0, len(s)):\n",
    "        o.append(ord(s[i]))\n",
    "    \n",
    "    return p, r, c, d, o\n",
    "\n",
    "lists()"
   ]
  },
  {
   "cell_type": "code",
   "execution_count": 1,
   "metadata": {},
   "outputs": [
    {
     "data": {
      "text/plain": [
       "('apple',\n",
       " {'fruit': 'apple', 'quantity': 5, 'color': 'green'},\n",
       " 'programmer',\n",
       " ['age', 'jobs', 'name'])"
      ]
     },
     "execution_count": 1,
     "metadata": {},
     "output_type": "execute_result"
    }
   ],
   "source": [
    "def dictionaries():\n",
    "    \"\"\"\n",
    "    This is to review basic operations with dictionaries.\n",
    "    \"\"\"\n",
    "# Create a dictionary that maps:\n",
    "#   fruit => \"apple\"\n",
    "#   quantity => 4\n",
    "#   color => \"green\"\n",
    "    f = {\n",
    "        \"fruit\":\"apple\",\n",
    "        \"quantity\": 4,\n",
    "        \"color\":\"green\"\n",
    "    }\n",
    "    \n",
    "\n",
    "# Get the item in dictionary f that the key \"fruit\" maps to\n",
    "    a = f[\"fruit\"]\n",
    "\n",
    "# Increase the quantity of f by 1\n",
    "# IMPLEMENT IT HERE\n",
    "    f.update({\"quantity\": f[\"quantity\"]+1})\n",
    "\n",
    "# Create a nested dictionary where:\n",
    "#   name => {first_name => \"Grace\", last_name => \"Hopper\"} (a dictionary)\n",
    "#   jobs => [\"scientist\", \"engineer\"] (a list)\n",
    "#   age => 85\n",
    "    amazing_grace = {\n",
    "        \"name\" : {\"first name\": \"Grace\", \"last name\": \"Hopper\"},\n",
    "        \"jobs\": [\"Scientist\", \"Engineer\"],\n",
    "        \"age\":\"85\"\n",
    "    }\n",
    "\n",
    "# Add \"programmer\" to the list of jobs Grace has\n",
    "# IMPLEMENT IT HERE\n",
    "    amazing_grace [\"jobs\"].append (\"programmer\")\n",
    "\n",
    "# Get the third job Grace has that you recently added\n",
    "    p = amazing_grace [\"jobs\"][2]\n",
    "\n",
    "# Use the sort() function to get sorted keys of amazing_grace in alphabetically ascending order\n",
    "    s= list(amazing_grace)\n",
    "    k = sorted(s)\n",
    "\n",
    "    return a, f, p, k\n",
    "\n",
    "dictionaries()"
   ]
  },
  {
   "cell_type": "code",
   "execution_count": null,
   "metadata": {},
   "outputs": [],
   "source": []
  }
 ],
 "metadata": {
  "kernelspec": {
   "display_name": "Python 3",
   "language": "python",
   "name": "python3"
  },
  "language_info": {
   "codemirror_mode": {
    "name": "ipython",
    "version": 3
   },
   "file_extension": ".py",
   "mimetype": "text/x-python",
   "name": "python",
   "nbconvert_exporter": "python",
   "pygments_lexer": "ipython3",
   "version": "3.7.4"
  }
 },
 "nbformat": 4,
 "nbformat_minor": 2
}
